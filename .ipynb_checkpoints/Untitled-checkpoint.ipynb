{
 "cells": [
  {
   "cell_type": "markdown",
   "id": "5e04c6e4",
   "metadata": {},
   "source": [
    "# Git Settings"
   ]
  },
  {
   "cell_type": "markdown",
   "id": "52f2e707",
   "metadata": {},
   "source": [
    "Check to make sure that Git is installed and available on the command line, by typing the following at the command prompt:"
   ]
  },
  {
   "cell_type": "code",
   "execution_count": null,
   "id": "7f131d54",
   "metadata": {},
   "outputs": [],
   "source": [
    "git --version"
   ]
  },
  {
   "cell_type": "markdown",
   "id": "e1e2491c",
   "metadata": {},
   "source": [
    "To configure your user name to be used by Git, type the following at the prompt:"
   ]
  },
  {
   "cell_type": "code",
   "execution_count": null,
   "id": "23483369",
   "metadata": {},
   "outputs": [],
   "source": [
    "git config --global user.name \"Your Name\""
   ]
  },
  {
   "cell_type": "markdown",
   "id": "9aab4999",
   "metadata": {},
   "source": [
    "To configure your email to be used by Git, type the following at the prompt:"
   ]
  },
  {
   "cell_type": "code",
   "execution_count": null,
   "id": "528841dc",
   "metadata": {},
   "outputs": [],
   "source": [
    "git config --global user.email <your email address>"
   ]
  },
  {
   "cell_type": "markdown",
   "id": "7b0ebcd8",
   "metadata": {},
   "source": [
    "You can check your default Git global configuration, you can type the following at the prompt:"
   ]
  },
  {
   "cell_type": "code",
   "execution_count": null,
   "id": "31b7ffdd",
   "metadata": {},
   "outputs": [],
   "source": [
    "git config --list"
   ]
  },
  {
   "cell_type": "markdown",
   "id": "2e19fe1c",
   "metadata": {},
   "source": [
    "# Basic Git Commands"
   ]
  },
  {
   "cell_type": "markdown",
   "id": "a9fd4ac3",
   "metadata": {},
   "source": [
    "Initializing the folder as a Git repository"
   ]
  },
  {
   "cell_type": "code",
   "execution_count": null,
   "id": "6404e41d",
   "metadata": {},
   "outputs": [],
   "source": [
    "git init"
   ]
  },
  {
   "cell_type": "markdown",
   "id": "5c777f19",
   "metadata": {},
   "source": [
    "Check git repository status"
   ]
  },
  {
   "cell_type": "code",
   "execution_count": null,
   "id": "7b951c4a",
   "metadata": {},
   "outputs": [],
   "source": [
    "git status"
   ]
  },
  {
   "cell_type": "markdown",
   "id": "253e3656",
   "metadata": {},
   "source": [
    "Add files to the staging agenda"
   ]
  },
  {
   "cell_type": "code",
   "execution_count": null,
   "id": "11c08f7b",
   "metadata": {},
   "outputs": [],
   "source": [
    "!git add ."
   ]
  },
  {
   "cell_type": "code",
   "execution_count": null,
   "id": "c1cb4a6d",
   "metadata": {},
   "outputs": [],
   "source": [
    "!git config --global user.email \"juliabuchko@gmail.com\"\n",
    "!git config --global user.name \"Yulia\""
   ]
  },
  {
   "cell_type": "code",
   "execution_count": null,
   "id": "3154471c",
   "metadata": {},
   "outputs": [],
   "source": [
    "!git log --oneline"
   ]
  },
  {
   "cell_type": "code",
   "execution_count": null,
   "id": "d02c21cd",
   "metadata": {},
   "outputs": [],
   "source": [
    "!git remote add origin https://github.com/Yulia-del/Primarymeal.git"
   ]
  },
  {
   "cell_type": "code",
   "execution_count": null,
   "id": "3baf16bf",
   "metadata": {},
   "outputs": [],
   "source": [
    "!git push -u origin master --Yulia"
   ]
  },
  {
   "cell_type": "code",
   "execution_count": null,
   "id": "2f350f7c",
   "metadata": {},
   "outputs": [],
   "source": [
    "import os"
   ]
  },
  {
   "cell_type": "code",
   "execution_count": null,
   "id": "d42e09f5",
   "metadata": {},
   "outputs": [],
   "source": [
    "os.getcwd()"
   ]
  }
 ],
 "metadata": {
  "kernelspec": {
   "display_name": "Python 3 (ipykernel)",
   "language": "python",
   "name": "python3"
  },
  "language_info": {
   "codemirror_mode": {
    "name": "ipython",
    "version": 3
   },
   "file_extension": ".py",
   "mimetype": "text/x-python",
   "name": "python",
   "nbconvert_exporter": "python",
   "pygments_lexer": "ipython3",
   "version": "3.8.10"
  }
 },
 "nbformat": 4,
 "nbformat_minor": 5
}
