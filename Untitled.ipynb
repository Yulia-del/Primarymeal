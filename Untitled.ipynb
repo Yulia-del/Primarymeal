{
 "cells": [
  {
   "cell_type": "markdown",
   "id": "afa16074",
   "metadata": {},
   "source": [
    "# Git Settings"
   ]
  },
  {
   "cell_type": "markdown",
   "id": "14c375a6",
   "metadata": {},
   "source": [
    "Check to make sure that Git is installed and available on the command line, by typing the following at the command prompt:"
   ]
  },
  {
   "cell_type": "code",
   "execution_count": null,
   "id": "eba46a63",
   "metadata": {},
   "outputs": [],
   "source": [
    "git --version"
   ]
  },
  {
   "cell_type": "markdown",
   "id": "cb495fb7",
   "metadata": {},
   "source": [
    "To configure your user name to be used by Git, type the following at the prompt:"
   ]
  },
  {
   "cell_type": "code",
   "execution_count": null,
   "id": "6cf255c3",
   "metadata": {},
   "outputs": [],
   "source": [
    "git config --global user.name \"Your Name\""
   ]
  },
  {
   "cell_type": "markdown",
   "id": "7dcc1f67",
   "metadata": {},
   "source": [
    "To configure your email to be used by Git, type the following at the prompt:"
   ]
  },
  {
   "cell_type": "code",
   "execution_count": null,
   "id": "c4d24d55",
   "metadata": {},
   "outputs": [],
   "source": [
    "git config --global user.email <your email address>"
   ]
  },
  {
   "cell_type": "markdown",
   "id": "c04ec5b2",
   "metadata": {},
   "source": [
    "You can check your default Git global configuration, you can type the following at the prompt:"
   ]
  },
  {
   "cell_type": "code",
   "execution_count": null,
   "id": "e847a3e9",
   "metadata": {},
   "outputs": [],
   "source": [
    "git config --list"
   ]
  },
  {
   "cell_type": "markdown",
   "id": "19d57a45",
   "metadata": {},
   "source": [
    "# Basic Git Commands"
   ]
  },
  {
   "cell_type": "markdown",
   "id": "79dfa7cc",
   "metadata": {},
   "source": [
    "Initializing the folder as a Git repository"
   ]
  },
  {
   "cell_type": "code",
   "execution_count": null,
   "id": "6404e41d",
   "metadata": {},
   "outputs": [],
   "source": [
    "git init"
   ]
  },
  {
   "cell_type": "markdown",
   "id": "c97f0d9b",
   "metadata": {},
   "source": [
    "Check git repository status"
   ]
  },
  {
   "cell_type": "code",
   "execution_count": null,
   "id": "7b951c4a",
   "metadata": {},
   "outputs": [],
   "source": [
    "git status"
   ]
  },
  {
   "cell_type": "markdown",
   "id": "293a7048",
   "metadata": {},
   "source": [
    "Add files to the staging agenda"
   ]
  },
  {
   "cell_type": "code",
   "execution_count": null,
   "id": "11c08f7b",
   "metadata": {},
   "outputs": [],
   "source": [
    "git add ."
   ]
  },
  {
   "cell_type": "code",
   "execution_count": null,
   "id": "c1cb4a6d",
   "metadata": {},
   "outputs": [],
   "source": [
    "!git config --global user.email \"juliabuchko@gmail.com\"\n",
    "!git config --global user.name \"Yulia\""
   ]
  },
  {
   "cell_type": "code",
   "execution_count": null,
   "id": "3154471c",
   "metadata": {},
   "outputs": [],
   "source": [
    "!git log --oneline"
   ]
  },
  {
   "cell_type": "code",
   "execution_count": null,
   "id": "d02c21cd",
   "metadata": {},
   "outputs": [],
   "source": [
    "!git remote add origin https://github.com/Yulia-del/Primarymeal.git"
   ]
  },
  {
   "cell_type": "code",
   "execution_count": null,
   "id": "3baf16bf",
   "metadata": {},
   "outputs": [],
   "source": [
    "!git push -u origin master --Yulia"
   ]
  },
  {
   "cell_type": "code",
   "execution_count": null,
   "id": "ffbbbbc6",
   "metadata": {},
   "outputs": [],
   "source": [
    "import os"
   ]
  },
  {
   "cell_type": "code",
   "execution_count": null,
   "id": "d7fbe3e6",
   "metadata": {},
   "outputs": [],
   "source": [
    "os.getcwd()"
   ]
  }
 ],
 "metadata": {
  "kernelspec": {
   "display_name": "Python 3 (ipykernel)",
   "language": "python",
   "name": "python3"
  },
  "language_info": {
   "codemirror_mode": {
    "name": "ipython",
    "version": 3
   },
   "file_extension": ".py",
   "mimetype": "text/x-python",
   "name": "python",
   "nbconvert_exporter": "python",
   "pygments_lexer": "ipython3",
   "version": "3.8.10"
  }
 },
 "nbformat": 4,
 "nbformat_minor": 5
}
